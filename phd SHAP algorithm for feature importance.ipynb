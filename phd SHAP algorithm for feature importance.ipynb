{
 "cells": [
  {
   "cell_type": "code",
   "execution_count": 1,
   "id": "2fc85a57",
   "metadata": {},
   "outputs": [],
   "source": [
    "import pandas as pd\n",
    "import numpy as np\n",
    "import matplotlib.pyplot as plt\n",
    "from matplotlib import rcParams\n",
    "import datetime\n",
    "from dateutil.relativedelta import relativedelta\n",
    "from datetime import date\n",
    "from datetime import datetime\n",
    "import seaborn as sns\n",
    "from matplotlib import pyplot\n",
    "%matplotlib inline"
   ]
  },
  {
   "cell_type": "markdown",
   "id": "ea497bf2",
   "metadata": {},
   "source": [
    "# import data"
   ]
  },
  {
   "cell_type": "code",
   "execution_count": 2,
   "id": "c0518e95",
   "metadata": {},
   "outputs": [],
   "source": [
    "df= pd.read_excel(\"C:/Users/44742/Documents/NHFormattedDATA.xlsx\")"
   ]
  },
  {
   "cell_type": "code",
   "execution_count": 3,
   "id": "b670e125",
   "metadata": {},
   "outputs": [
    {
     "data": {
      "text/html": [
       "<div>\n",
       "<style scoped>\n",
       "    .dataframe tbody tr th:only-of-type {\n",
       "        vertical-align: middle;\n",
       "    }\n",
       "\n",
       "    .dataframe tbody tr th {\n",
       "        vertical-align: top;\n",
       "    }\n",
       "\n",
       "    .dataframe thead th {\n",
       "        text-align: right;\n",
       "    }\n",
       "</style>\n",
       "<table border=\"1\" class=\"dataframe\">\n",
       "  <thead>\n",
       "    <tr style=\"text-align: right;\">\n",
       "      <th></th>\n",
       "      <th>PublishedRecordId</th>\n",
       "      <th>Region</th>\n",
       "      <th>Site/Project</th>\n",
       "      <th>Event Type</th>\n",
       "      <th>Date and Time of Event</th>\n",
       "      <th>vehicles involved?</th>\n",
       "      <th>Type of Person</th>\n",
       "      <th>Location</th>\n",
       "      <th>Did this event occur on the SRN?</th>\n",
       "      <th>Part of Body Affected</th>\n",
       "      <th>...</th>\n",
       "      <th>Actual Severity Rating</th>\n",
       "      <th>month</th>\n",
       "      <th>Season</th>\n",
       "      <th>Type_of_work</th>\n",
       "      <th>Year</th>\n",
       "      <th>Injury occurrence</th>\n",
       "      <th>Project risk level</th>\n",
       "      <th>day_of_week</th>\n",
       "      <th>time</th>\n",
       "      <th>time_of_day</th>\n",
       "    </tr>\n",
       "  </thead>\n",
       "  <tbody>\n",
       "    <tr>\n",
       "      <th>0</th>\n",
       "      <td>131601</td>\n",
       "      <td>East - Outstations &amp; ROCs</td>\n",
       "      <td>South Mimms Outstation</td>\n",
       "      <td>Undesired Circumstance / Near Miss</td>\n",
       "      <td>2022-08-09 18:20:00</td>\n",
       "      <td>False</td>\n",
       "      <td>Employee</td>\n",
       "      <td>Carriageway Slip Rd K</td>\n",
       "      <td>0</td>\n",
       "      <td>Not applicable</td>\n",
       "      <td>...</td>\n",
       "      <td>11</td>\n",
       "      <td>8</td>\n",
       "      <td>Summer</td>\n",
       "      <td>Traffic management/control</td>\n",
       "      <td>2022</td>\n",
       "      <td>No</td>\n",
       "      <td>medium</td>\n",
       "      <td>Tuesday</td>\n",
       "      <td>18</td>\n",
       "      <td>Evening</td>\n",
       "    </tr>\n",
       "    <tr>\n",
       "      <th>1</th>\n",
       "      <td>131600</td>\n",
       "      <td>East - Outstations &amp; ROCs</td>\n",
       "      <td>South Mimms Outstation</td>\n",
       "      <td>Undesired Circumstance / Near Miss</td>\n",
       "      <td>2022-08-09 17:00:00</td>\n",
       "      <td>False</td>\n",
       "      <td>Employee</td>\n",
       "      <td>Carriageway B</td>\n",
       "      <td>0</td>\n",
       "      <td>Not applicable</td>\n",
       "      <td>...</td>\n",
       "      <td>11</td>\n",
       "      <td>8</td>\n",
       "      <td>Summer</td>\n",
       "      <td>Traffic management/control</td>\n",
       "      <td>2022</td>\n",
       "      <td>No</td>\n",
       "      <td>medium</td>\n",
       "      <td>Tuesday</td>\n",
       "      <td>17</td>\n",
       "      <td>Evening</td>\n",
       "    </tr>\n",
       "    <tr>\n",
       "      <th>2</th>\n",
       "      <td>131599</td>\n",
       "      <td>Yorkshire &amp; North East - Outstations &amp; ROCs</td>\n",
       "      <td>Calder Park ROC</td>\n",
       "      <td>Undesired Circumstance / Near Miss</td>\n",
       "      <td>2022-08-08 20:14:00</td>\n",
       "      <td>False</td>\n",
       "      <td>Employee</td>\n",
       "      <td>Carriageway Slip Rd J</td>\n",
       "      <td>0</td>\n",
       "      <td>Not applicable</td>\n",
       "      <td>...</td>\n",
       "      <td>11</td>\n",
       "      <td>8</td>\n",
       "      <td>Summer</td>\n",
       "      <td>Traffic management/control</td>\n",
       "      <td>2022</td>\n",
       "      <td>No</td>\n",
       "      <td>medium</td>\n",
       "      <td>Monday</td>\n",
       "      <td>20</td>\n",
       "      <td>Night</td>\n",
       "    </tr>\n",
       "  </tbody>\n",
       "</table>\n",
       "<p>3 rows × 25 columns</p>\n",
       "</div>"
      ],
      "text/plain": [
       "   PublishedRecordId                                       Region  \\\n",
       "0             131601                    East - Outstations & ROCs   \n",
       "1             131600                    East - Outstations & ROCs   \n",
       "2             131599  Yorkshire & North East - Outstations & ROCs   \n",
       "\n",
       "             Site/Project                          Event Type  \\\n",
       "0  South Mimms Outstation  Undesired Circumstance / Near Miss   \n",
       "1  South Mimms Outstation  Undesired Circumstance / Near Miss   \n",
       "2         Calder Park ROC  Undesired Circumstance / Near Miss   \n",
       "\n",
       "  Date and Time of Event vehicles involved? Type of Person  \\\n",
       "0    2022-08-09 18:20:00              False       Employee   \n",
       "1    2022-08-09 17:00:00              False       Employee   \n",
       "2    2022-08-08 20:14:00              False       Employee   \n",
       "\n",
       "                Location Did this event occur on the SRN?  \\\n",
       "0  Carriageway Slip Rd K                                0   \n",
       "1          Carriageway B                                0   \n",
       "2  Carriageway Slip Rd J                                0   \n",
       "\n",
       "  Part of Body Affected  ... Actual Severity Rating  month  Season  \\\n",
       "0        Not applicable  ...                     11      8  Summer   \n",
       "1        Not applicable  ...                     11      8  Summer   \n",
       "2        Not applicable  ...                     11      8  Summer   \n",
       "\n",
       "                 Type_of_work  Year  Injury occurrence  Project risk level  \\\n",
       "0  Traffic management/control  2022                 No              medium   \n",
       "1  Traffic management/control  2022                 No              medium   \n",
       "2  Traffic management/control  2022                 No              medium   \n",
       "\n",
       "  day_of_week time  time_of_day  \n",
       "0     Tuesday   18      Evening  \n",
       "1     Tuesday   17      Evening  \n",
       "2      Monday   20        Night  \n",
       "\n",
       "[3 rows x 25 columns]"
      ]
     },
     "execution_count": 3,
     "metadata": {},
     "output_type": "execute_result"
    }
   ],
   "source": [
    "df.head(3) "
   ]
  },
  {
   "cell_type": "code",
   "execution_count": 4,
   "id": "f8ea9169",
   "metadata": {},
   "outputs": [
    {
     "name": "stdout",
     "output_type": "stream",
     "text": [
      "<class 'pandas.core.frame.DataFrame'>\n",
      "RangeIndex: 64912 entries, 0 to 64911\n",
      "Data columns (total 25 columns):\n",
      " #   Column                            Non-Null Count  Dtype         \n",
      "---  ------                            --------------  -----         \n",
      " 0   PublishedRecordId                 64912 non-null  int64         \n",
      " 1   Region                            64912 non-null  object        \n",
      " 2   Site/Project                      64912 non-null  object        \n",
      " 3   Event Type                        64912 non-null  object        \n",
      " 4   Date and Time of Event            64912 non-null  datetime64[ns]\n",
      " 5   vehicles involved?                64858 non-null  object        \n",
      " 6   Type of Person                    64912 non-null  object        \n",
      " 7   Location                          55046 non-null  object        \n",
      " 8   Did this event occur on the SRN?  64912 non-null  object        \n",
      " 9   Part of Body Affected             64912 non-null  object        \n",
      " 10  Injury Type                       64912 non-null  object        \n",
      " 11  Experience in Current Role        64912 non-null  int64         \n",
      " 12  Age Range                         64912 non-null  int64         \n",
      " 13  Weather / Visibility              64912 non-null  object        \n",
      " 14  Potential Severity Rating         64912 non-null  int64         \n",
      " 15  Actual Severity Rating            64912 non-null  int64         \n",
      " 16  month                             64912 non-null  int64         \n",
      " 17  Season                            64912 non-null  object        \n",
      " 18  Type_of_work                      64912 non-null  object        \n",
      " 19  Year                              64912 non-null  int64         \n",
      " 20  Injury occurrence                 64912 non-null  object        \n",
      " 21  Project risk level                64912 non-null  object        \n",
      " 22  day_of_week                       64912 non-null  object        \n",
      " 23  time                              64912 non-null  int64         \n",
      " 24  time_of_day                       64912 non-null  object        \n",
      "dtypes: datetime64[ns](1), int64(8), object(16)\n",
      "memory usage: 12.4+ MB\n"
     ]
    }
   ],
   "source": [
    "df.info()"
   ]
  },
  {
   "cell_type": "code",
   "execution_count": 5,
   "id": "4264a5d6",
   "metadata": {},
   "outputs": [
    {
     "data": {
      "text/plain": [
       "array(['Not applicable', 'Strain/sprain', 'Other', 'Cut/laceration',\n",
       "       'Fracture', 'Swelling/Oedema', 'Puncture Wound', 'Foreign body',\n",
       "       'Musculoskeletal', 'Abrasion', 'Crush', 'Amputation', 'Bruising',\n",
       "       'Visual Issues', 'Ingestion', 'Scald/burn(non-chemical)',\n",
       "       'Contact/exposure(chemicals)', 'Dislocation', 'Concussion',\n",
       "       'Electric shock'], dtype=object)"
      ]
     },
     "execution_count": 5,
     "metadata": {},
     "output_type": "execute_result"
    }
   ],
   "source": [
    "df['Injury Type'].unique()"
   ]
  },
  {
   "cell_type": "code",
   "execution_count": 6,
   "id": "f4ecfbf0",
   "metadata": {},
   "outputs": [
    {
     "data": {
      "text/plain": [
       "20"
      ]
     },
     "execution_count": 6,
     "metadata": {},
     "output_type": "execute_result"
    }
   ],
   "source": [
    "df['Injury Type'].nunique() #there are 297 unique elements in site column"
   ]
  },
  {
   "cell_type": "code",
   "execution_count": 7,
   "id": "f1c958f5",
   "metadata": {},
   "outputs": [
    {
     "data": {
      "text/plain": [
       "array(['Undesired Circumstance / Near Miss', 'Incursion / IPV Strike',\n",
       "       'Infrastructure / Asset', 'Environmental',\n",
       "       'Personal illness or injury', 'Structural Safety', 'Security',\n",
       "       'Facilities / Site', 'Utility Strike'], dtype=object)"
      ]
     },
     "execution_count": 7,
     "metadata": {},
     "output_type": "execute_result"
    }
   ],
   "source": [
    "df['Event Type'].unique() #different types of events classified"
   ]
  },
  {
   "cell_type": "code",
   "execution_count": 8,
   "id": "3ec36ef5",
   "metadata": {},
   "outputs": [],
   "source": [
    "event_type= []\n",
    "for val in df['Event Type']:\n",
    "    if val != 'Undesired Circumstance / Near Miss':\n",
    "        event_type.append('other types')\n",
    "    else:\n",
    "        event_type.append(val)\n",
    "\n"
   ]
  },
  {
   "cell_type": "code",
   "execution_count": 9,
   "id": "5f12785d",
   "metadata": {},
   "outputs": [],
   "source": [
    "df['event_type']= event_type"
   ]
  },
  {
   "cell_type": "code",
   "execution_count": 10,
   "id": "800ed44a",
   "metadata": {},
   "outputs": [
    {
     "data": {
      "text/plain": [
       "array(['Undesired Circumstance / Near Miss', 'other types'], dtype=object)"
      ]
     },
     "execution_count": 10,
     "metadata": {},
     "output_type": "execute_result"
    }
   ],
   "source": [
    "df['event_type'].unique()"
   ]
  },
  {
   "cell_type": "code",
   "execution_count": null,
   "id": "e4c078c6",
   "metadata": {},
   "outputs": [],
   "source": []
  },
  {
   "cell_type": "markdown",
   "id": "d11f3988",
   "metadata": {},
   "source": [
    "# model building"
   ]
  },
  {
   "cell_type": "code",
   "execution_count": 11,
   "id": "1018cc71",
   "metadata": {},
   "outputs": [],
   "source": [
    "df=df.dropna()"
   ]
  },
  {
   "cell_type": "code",
   "execution_count": 12,
   "id": "5a0fa707",
   "metadata": {},
   "outputs": [],
   "source": [
    "df[\"vehicles involved?\"].replace({\"True\": \"Yes\", \"False\": \"No\"}, inplace=True)"
   ]
  },
  {
   "cell_type": "code",
   "execution_count": 13,
   "id": "084eca13",
   "metadata": {},
   "outputs": [],
   "source": [
    "df[\"vehicles involved?\"].replace({\"Yes\": \"1\", \"No\": \"0\"}, inplace=True)"
   ]
  },
  {
   "cell_type": "code",
   "execution_count": 14,
   "id": "92bcacf3",
   "metadata": {},
   "outputs": [
    {
     "data": {
      "text/html": [
       "<div>\n",
       "<style scoped>\n",
       "    .dataframe tbody tr th:only-of-type {\n",
       "        vertical-align: middle;\n",
       "    }\n",
       "\n",
       "    .dataframe tbody tr th {\n",
       "        vertical-align: top;\n",
       "    }\n",
       "\n",
       "    .dataframe thead th {\n",
       "        text-align: right;\n",
       "    }\n",
       "</style>\n",
       "<table border=\"1\" class=\"dataframe\">\n",
       "  <thead>\n",
       "    <tr style=\"text-align: right;\">\n",
       "      <th></th>\n",
       "      <th>PublishedRecordId</th>\n",
       "      <th>Region</th>\n",
       "      <th>Site/Project</th>\n",
       "      <th>Event Type</th>\n",
       "      <th>Date and Time of Event</th>\n",
       "      <th>vehicles involved?</th>\n",
       "      <th>Type of Person</th>\n",
       "      <th>Location</th>\n",
       "      <th>Did this event occur on the SRN?</th>\n",
       "      <th>Part of Body Affected</th>\n",
       "      <th>...</th>\n",
       "      <th>month</th>\n",
       "      <th>Season</th>\n",
       "      <th>Type_of_work</th>\n",
       "      <th>Year</th>\n",
       "      <th>Injury occurrence</th>\n",
       "      <th>Project risk level</th>\n",
       "      <th>day_of_week</th>\n",
       "      <th>time</th>\n",
       "      <th>time_of_day</th>\n",
       "      <th>event_type</th>\n",
       "    </tr>\n",
       "  </thead>\n",
       "  <tbody>\n",
       "    <tr>\n",
       "      <th>0</th>\n",
       "      <td>131601</td>\n",
       "      <td>East - Outstations &amp; ROCs</td>\n",
       "      <td>South Mimms Outstation</td>\n",
       "      <td>Undesired Circumstance / Near Miss</td>\n",
       "      <td>2022-08-09 18:20:00</td>\n",
       "      <td>False</td>\n",
       "      <td>Employee</td>\n",
       "      <td>Carriageway Slip Rd K</td>\n",
       "      <td>0</td>\n",
       "      <td>Not applicable</td>\n",
       "      <td>...</td>\n",
       "      <td>8</td>\n",
       "      <td>Summer</td>\n",
       "      <td>Traffic management/control</td>\n",
       "      <td>2022</td>\n",
       "      <td>No</td>\n",
       "      <td>medium</td>\n",
       "      <td>Tuesday</td>\n",
       "      <td>18</td>\n",
       "      <td>Evening</td>\n",
       "      <td>Undesired Circumstance / Near Miss</td>\n",
       "    </tr>\n",
       "    <tr>\n",
       "      <th>1</th>\n",
       "      <td>131600</td>\n",
       "      <td>East - Outstations &amp; ROCs</td>\n",
       "      <td>South Mimms Outstation</td>\n",
       "      <td>Undesired Circumstance / Near Miss</td>\n",
       "      <td>2022-08-09 17:00:00</td>\n",
       "      <td>False</td>\n",
       "      <td>Employee</td>\n",
       "      <td>Carriageway B</td>\n",
       "      <td>0</td>\n",
       "      <td>Not applicable</td>\n",
       "      <td>...</td>\n",
       "      <td>8</td>\n",
       "      <td>Summer</td>\n",
       "      <td>Traffic management/control</td>\n",
       "      <td>2022</td>\n",
       "      <td>No</td>\n",
       "      <td>medium</td>\n",
       "      <td>Tuesday</td>\n",
       "      <td>17</td>\n",
       "      <td>Evening</td>\n",
       "      <td>Undesired Circumstance / Near Miss</td>\n",
       "    </tr>\n",
       "    <tr>\n",
       "      <th>2</th>\n",
       "      <td>131599</td>\n",
       "      <td>Yorkshire &amp; North East - Outstations &amp; ROCs</td>\n",
       "      <td>Calder Park ROC</td>\n",
       "      <td>Undesired Circumstance / Near Miss</td>\n",
       "      <td>2022-08-08 20:14:00</td>\n",
       "      <td>False</td>\n",
       "      <td>Employee</td>\n",
       "      <td>Carriageway Slip Rd J</td>\n",
       "      <td>0</td>\n",
       "      <td>Not applicable</td>\n",
       "      <td>...</td>\n",
       "      <td>8</td>\n",
       "      <td>Summer</td>\n",
       "      <td>Traffic management/control</td>\n",
       "      <td>2022</td>\n",
       "      <td>No</td>\n",
       "      <td>medium</td>\n",
       "      <td>Monday</td>\n",
       "      <td>20</td>\n",
       "      <td>Night</td>\n",
       "      <td>Undesired Circumstance / Near Miss</td>\n",
       "    </tr>\n",
       "    <tr>\n",
       "      <th>4</th>\n",
       "      <td>131597</td>\n",
       "      <td>East - Operations</td>\n",
       "      <td>DBFO - M40 J1-15 Denham to Warwick (area 30)</td>\n",
       "      <td>Undesired Circumstance / Near Miss</td>\n",
       "      <td>2022-08-08 12:30:00</td>\n",
       "      <td>False</td>\n",
       "      <td>Contractor</td>\n",
       "      <td>Off Network e.g. Local Authority Road Footpath...</td>\n",
       "      <td>0</td>\n",
       "      <td>Not applicable</td>\n",
       "      <td>...</td>\n",
       "      <td>8</td>\n",
       "      <td>Summer</td>\n",
       "      <td>Highway construction work</td>\n",
       "      <td>2022</td>\n",
       "      <td>No</td>\n",
       "      <td>medium</td>\n",
       "      <td>Monday</td>\n",
       "      <td>12</td>\n",
       "      <td>Afternoon</td>\n",
       "      <td>Undesired Circumstance / Near Miss</td>\n",
       "    </tr>\n",
       "    <tr>\n",
       "      <th>7</th>\n",
       "      <td>131594</td>\n",
       "      <td>Yorkshire &amp; North East - Outstations &amp; ROCs</td>\n",
       "      <td>Tingley Outstation</td>\n",
       "      <td>Undesired Circumstance / Near Miss</td>\n",
       "      <td>2022-08-09 16:10:00</td>\n",
       "      <td>False</td>\n",
       "      <td>Employee</td>\n",
       "      <td>Carriageway Slip Rd L</td>\n",
       "      <td>0</td>\n",
       "      <td>Not applicable</td>\n",
       "      <td>...</td>\n",
       "      <td>8</td>\n",
       "      <td>Summer</td>\n",
       "      <td>Traffic management/control</td>\n",
       "      <td>2022</td>\n",
       "      <td>No</td>\n",
       "      <td>medium</td>\n",
       "      <td>Tuesday</td>\n",
       "      <td>16</td>\n",
       "      <td>Evening</td>\n",
       "      <td>Undesired Circumstance / Near Miss</td>\n",
       "    </tr>\n",
       "  </tbody>\n",
       "</table>\n",
       "<p>5 rows × 26 columns</p>\n",
       "</div>"
      ],
      "text/plain": [
       "   PublishedRecordId                                       Region  \\\n",
       "0             131601                    East - Outstations & ROCs   \n",
       "1             131600                    East - Outstations & ROCs   \n",
       "2             131599  Yorkshire & North East - Outstations & ROCs   \n",
       "4             131597                            East - Operations   \n",
       "7             131594  Yorkshire & North East - Outstations & ROCs   \n",
       "\n",
       "                                   Site/Project  \\\n",
       "0                        South Mimms Outstation   \n",
       "1                        South Mimms Outstation   \n",
       "2                               Calder Park ROC   \n",
       "4  DBFO - M40 J1-15 Denham to Warwick (area 30)   \n",
       "7                            Tingley Outstation   \n",
       "\n",
       "                           Event Type Date and Time of Event  \\\n",
       "0  Undesired Circumstance / Near Miss    2022-08-09 18:20:00   \n",
       "1  Undesired Circumstance / Near Miss    2022-08-09 17:00:00   \n",
       "2  Undesired Circumstance / Near Miss    2022-08-08 20:14:00   \n",
       "4  Undesired Circumstance / Near Miss    2022-08-08 12:30:00   \n",
       "7  Undesired Circumstance / Near Miss    2022-08-09 16:10:00   \n",
       "\n",
       "   vehicles involved? Type of Person  \\\n",
       "0               False       Employee   \n",
       "1               False       Employee   \n",
       "2               False       Employee   \n",
       "4               False     Contractor   \n",
       "7               False       Employee   \n",
       "\n",
       "                                            Location  \\\n",
       "0                              Carriageway Slip Rd K   \n",
       "1                                      Carriageway B   \n",
       "2                              Carriageway Slip Rd J   \n",
       "4  Off Network e.g. Local Authority Road Footpath...   \n",
       "7                              Carriageway Slip Rd L   \n",
       "\n",
       "  Did this event occur on the SRN? Part of Body Affected  ... month  Season  \\\n",
       "0                                0        Not applicable  ...     8  Summer   \n",
       "1                                0        Not applicable  ...     8  Summer   \n",
       "2                                0        Not applicable  ...     8  Summer   \n",
       "4                                0        Not applicable  ...     8  Summer   \n",
       "7                                0        Not applicable  ...     8  Summer   \n",
       "\n",
       "                 Type_of_work  Year  Injury occurrence  Project risk level  \\\n",
       "0  Traffic management/control  2022                 No              medium   \n",
       "1  Traffic management/control  2022                 No              medium   \n",
       "2  Traffic management/control  2022                 No              medium   \n",
       "4   Highway construction work  2022                 No              medium   \n",
       "7  Traffic management/control  2022                 No              medium   \n",
       "\n",
       "   day_of_week time time_of_day                          event_type  \n",
       "0      Tuesday   18     Evening  Undesired Circumstance / Near Miss  \n",
       "1      Tuesday   17     Evening  Undesired Circumstance / Near Miss  \n",
       "2       Monday   20       Night  Undesired Circumstance / Near Miss  \n",
       "4       Monday   12   Afternoon  Undesired Circumstance / Near Miss  \n",
       "7      Tuesday   16     Evening  Undesired Circumstance / Near Miss  \n",
       "\n",
       "[5 rows x 26 columns]"
      ]
     },
     "execution_count": 14,
     "metadata": {},
     "output_type": "execute_result"
    }
   ],
   "source": [
    "df.head()"
   ]
  },
  {
   "cell_type": "code",
   "execution_count": 15,
   "id": "5cc71dc7",
   "metadata": {},
   "outputs": [],
   "source": [
    "from sklearn import preprocessing\n",
    "  \n",
    "# label_encoder object knows how to understand word labels.\n",
    "le = preprocessing.LabelEncoder()\n",
    "#label_encoder2 = preprocessing.LabelEncoder()\n",
    "#le_transform = label_encoder2.fit_transform(df['Event Type'])\n",
    "#df['Event Type']= le_transform \n",
    "df['day_of_week']= le.fit_transform(df['day_of_week'])\n",
    "df['Injury occurrence']= le.fit_transform(df['Injury occurrence'])\n",
    "df['Type_of_work']= le.fit_transform(df['Type_of_work'])\n",
    "df['Project risk level']= le.fit_transform(df['Project risk level'])\n",
    "df['Season']= le.fit_transform(df['Season'])\n",
    "df['month']= le.fit_transform(df['month'])\n",
    "df['Injury Type']= le.fit_transform(df['Injury Type'])\n",
    "df['Part of Body Affected']= le.fit_transform(df['Part of Body Affected'])\n",
    "df['Did this event occur on the SRN?']= le.fit_transform(df['Did this event occur on the SRN?'])\n",
    "df['Location']= le.fit_transform(df['Location'])\n",
    "df['Type of Person']= le.fit_transform(df['Type of Person'])\n",
    "df['Site/Project']= le.fit_transform(df['Site/Project'])\n",
    "df['Region']= le.fit_transform(df['Region'])\n",
    "df['time_of_day']= le.fit_transform(df['time_of_day'])\n",
    "df['Weather / Visibility']= le.fit_transform(df['Weather / Visibility'])\n",
    "df['Event Type']=le.fit_transform(df['Event Type'])\n",
    "df['event_type']=le.fit_transform(df['event_type'])"
   ]
  },
  {
   "cell_type": "code",
   "execution_count": 16,
   "id": "d08352cc",
   "metadata": {},
   "outputs": [],
   "source": [
    "df['Project risk level']= df['Project risk level'].replace(['low','Medium','High'],[1,2,3]) "
   ]
  },
  {
   "cell_type": "code",
   "execution_count": null,
   "id": "230a5fd6",
   "metadata": {},
   "outputs": [],
   "source": []
  },
  {
   "cell_type": "code",
   "execution_count": 17,
   "id": "c11b57f0",
   "metadata": {},
   "outputs": [
    {
     "data": {
      "text/plain": [
       "7    49245\n",
       "4     1721\n",
       "3     1307\n",
       "1      738\n",
       "2      581\n",
       "0      472\n",
       "5      373\n",
       "6      295\n",
       "8      281\n",
       "Name: Event Type, dtype: int64"
      ]
     },
     "execution_count": 17,
     "metadata": {},
     "output_type": "execute_result"
    }
   ],
   "source": [
    "df['Event Type'].value_counts()"
   ]
  },
  {
   "cell_type": "code",
   "execution_count": 19,
   "id": "280aaeaa",
   "metadata": {},
   "outputs": [],
   "source": [
    "from xgboost import XGBClassifier"
   ]
  },
  {
   "cell_type": "code",
   "execution_count": 20,
   "id": "2ef43b6c",
   "metadata": {},
   "outputs": [
    {
     "data": {
      "text/plain": [
       "0    49245\n",
       "1     5768\n",
       "Name: event_type, dtype: int64"
      ]
     },
     "execution_count": 20,
     "metadata": {},
     "output_type": "execute_result"
    }
   ],
   "source": [
    "df['event_type'].value_counts()"
   ]
  },
  {
   "cell_type": "code",
   "execution_count": 28,
   "id": "f2ce8154",
   "metadata": {},
   "outputs": [],
   "source": [
    "X= df.drop(['Date and Time of Event','vehicles involved?','Event Type','time','PublishedRecordId'], axis=1)\n",
    "y=df['Event Type']"
   ]
  },
  {
   "cell_type": "code",
   "execution_count": 29,
   "id": "8c7652aa",
   "metadata": {},
   "outputs": [],
   "source": [
    "from sklearn.model_selection import train_test_split\n",
    "\n",
    "X_train, X_test, y_train, y_test = train_test_split(X, y, test_size=0.3,random_state=109) # 70% training and 30% test\n"
   ]
  },
  {
   "cell_type": "code",
   "execution_count": null,
   "id": "599880de",
   "metadata": {},
   "outputs": [],
   "source": [
    "y_train"
   ]
  },
  {
   "cell_type": "code",
   "execution_count": 30,
   "id": "e15f894f",
   "metadata": {},
   "outputs": [
    {
     "data": {
      "text/html": [
       "<style>#sk-container-id-2 {color: black;background-color: white;}#sk-container-id-2 pre{padding: 0;}#sk-container-id-2 div.sk-toggleable {background-color: white;}#sk-container-id-2 label.sk-toggleable__label {cursor: pointer;display: block;width: 100%;margin-bottom: 0;padding: 0.3em;box-sizing: border-box;text-align: center;}#sk-container-id-2 label.sk-toggleable__label-arrow:before {content: \"▸\";float: left;margin-right: 0.25em;color: #696969;}#sk-container-id-2 label.sk-toggleable__label-arrow:hover:before {color: black;}#sk-container-id-2 div.sk-estimator:hover label.sk-toggleable__label-arrow:before {color: black;}#sk-container-id-2 div.sk-toggleable__content {max-height: 0;max-width: 0;overflow: hidden;text-align: left;background-color: #f0f8ff;}#sk-container-id-2 div.sk-toggleable__content pre {margin: 0.2em;color: black;border-radius: 0.25em;background-color: #f0f8ff;}#sk-container-id-2 input.sk-toggleable__control:checked~div.sk-toggleable__content {max-height: 200px;max-width: 100%;overflow: auto;}#sk-container-id-2 input.sk-toggleable__control:checked~label.sk-toggleable__label-arrow:before {content: \"▾\";}#sk-container-id-2 div.sk-estimator input.sk-toggleable__control:checked~label.sk-toggleable__label {background-color: #d4ebff;}#sk-container-id-2 div.sk-label input.sk-toggleable__control:checked~label.sk-toggleable__label {background-color: #d4ebff;}#sk-container-id-2 input.sk-hidden--visually {border: 0;clip: rect(1px 1px 1px 1px);clip: rect(1px, 1px, 1px, 1px);height: 1px;margin: -1px;overflow: hidden;padding: 0;position: absolute;width: 1px;}#sk-container-id-2 div.sk-estimator {font-family: monospace;background-color: #f0f8ff;border: 1px dotted black;border-radius: 0.25em;box-sizing: border-box;margin-bottom: 0.5em;}#sk-container-id-2 div.sk-estimator:hover {background-color: #d4ebff;}#sk-container-id-2 div.sk-parallel-item::after {content: \"\";width: 100%;border-bottom: 1px solid gray;flex-grow: 1;}#sk-container-id-2 div.sk-label:hover label.sk-toggleable__label {background-color: #d4ebff;}#sk-container-id-2 div.sk-serial::before {content: \"\";position: absolute;border-left: 1px solid gray;box-sizing: border-box;top: 0;bottom: 0;left: 50%;z-index: 0;}#sk-container-id-2 div.sk-serial {display: flex;flex-direction: column;align-items: center;background-color: white;padding-right: 0.2em;padding-left: 0.2em;position: relative;}#sk-container-id-2 div.sk-item {position: relative;z-index: 1;}#sk-container-id-2 div.sk-parallel {display: flex;align-items: stretch;justify-content: center;background-color: white;position: relative;}#sk-container-id-2 div.sk-item::before, #sk-container-id-2 div.sk-parallel-item::before {content: \"\";position: absolute;border-left: 1px solid gray;box-sizing: border-box;top: 0;bottom: 0;left: 50%;z-index: -1;}#sk-container-id-2 div.sk-parallel-item {display: flex;flex-direction: column;z-index: 1;position: relative;background-color: white;}#sk-container-id-2 div.sk-parallel-item:first-child::after {align-self: flex-end;width: 50%;}#sk-container-id-2 div.sk-parallel-item:last-child::after {align-self: flex-start;width: 50%;}#sk-container-id-2 div.sk-parallel-item:only-child::after {width: 0;}#sk-container-id-2 div.sk-dashed-wrapped {border: 1px dashed gray;margin: 0 0.4em 0.5em 0.4em;box-sizing: border-box;padding-bottom: 0.4em;background-color: white;}#sk-container-id-2 div.sk-label label {font-family: monospace;font-weight: bold;display: inline-block;line-height: 1.2em;}#sk-container-id-2 div.sk-label-container {text-align: center;}#sk-container-id-2 div.sk-container {/* jupyter's `normalize.less` sets `[hidden] { display: none; }` but bootstrap.min.css set `[hidden] { display: none !important; }` so we also need the `!important` here to be able to override the default hidden behavior on the sphinx rendered scikit-learn.org. See: https://github.com/scikit-learn/scikit-learn/issues/21755 */display: inline-block !important;position: relative;}#sk-container-id-2 div.sk-text-repr-fallback {display: none;}</style><div id=\"sk-container-id-2\" class=\"sk-top-container\"><div class=\"sk-text-repr-fallback\"><pre>XGBClassifier(base_score=None, booster=None, callbacks=None,\n",
       "              colsample_bylevel=None, colsample_bynode=None,\n",
       "              colsample_bytree=None, early_stopping_rounds=None,\n",
       "              enable_categorical=False, eval_metric=None, feature_types=None,\n",
       "              gamma=None, gpu_id=None, grow_policy=None, importance_type=None,\n",
       "              interaction_constraints=None, learning_rate=None, max_bin=None,\n",
       "              max_cat_threshold=None, max_cat_to_onehot=None,\n",
       "              max_delta_step=None, max_depth=3, max_leaves=None,\n",
       "              min_child_weight=None, missing=nan, monotone_constraints=None,\n",
       "              n_estimators=350, n_jobs=None, num_parallel_tree=None,\n",
       "              objective=&#x27;multi:softprob&#x27;, predictor=None, ...)</pre><b>In a Jupyter environment, please rerun this cell to show the HTML representation or trust the notebook. <br />On GitHub, the HTML representation is unable to render, please try loading this page with nbviewer.org.</b></div><div class=\"sk-container\" hidden><div class=\"sk-item\"><div class=\"sk-estimator sk-toggleable\"><input class=\"sk-toggleable__control sk-hidden--visually\" id=\"sk-estimator-id-2\" type=\"checkbox\" checked><label for=\"sk-estimator-id-2\" class=\"sk-toggleable__label sk-toggleable__label-arrow\">XGBClassifier</label><div class=\"sk-toggleable__content\"><pre>XGBClassifier(base_score=None, booster=None, callbacks=None,\n",
       "              colsample_bylevel=None, colsample_bynode=None,\n",
       "              colsample_bytree=None, early_stopping_rounds=None,\n",
       "              enable_categorical=False, eval_metric=None, feature_types=None,\n",
       "              gamma=None, gpu_id=None, grow_policy=None, importance_type=None,\n",
       "              interaction_constraints=None, learning_rate=None, max_bin=None,\n",
       "              max_cat_threshold=None, max_cat_to_onehot=None,\n",
       "              max_delta_step=None, max_depth=3, max_leaves=None,\n",
       "              min_child_weight=None, missing=nan, monotone_constraints=None,\n",
       "              n_estimators=350, n_jobs=None, num_parallel_tree=None,\n",
       "              objective=&#x27;multi:softprob&#x27;, predictor=None, ...)</pre></div></div></div></div></div>"
      ],
      "text/plain": [
       "XGBClassifier(base_score=None, booster=None, callbacks=None,\n",
       "              colsample_bylevel=None, colsample_bynode=None,\n",
       "              colsample_bytree=None, early_stopping_rounds=None,\n",
       "              enable_categorical=False, eval_metric=None, feature_types=None,\n",
       "              gamma=None, gpu_id=None, grow_policy=None, importance_type=None,\n",
       "              interaction_constraints=None, learning_rate=None, max_bin=None,\n",
       "              max_cat_threshold=None, max_cat_to_onehot=None,\n",
       "              max_delta_step=None, max_depth=3, max_leaves=None,\n",
       "              min_child_weight=None, missing=nan, monotone_constraints=None,\n",
       "              n_estimators=350, n_jobs=None, num_parallel_tree=None,\n",
       "              objective='multi:softprob', predictor=None, ...)"
      ]
     },
     "execution_count": 30,
     "metadata": {},
     "output_type": "execute_result"
    }
   ],
   "source": [
    "model = XGBClassifier(n_estimators=350, max_depth=3)\n",
    "\n",
    "model.fit(X_train, y_train)"
   ]
  },
  {
   "cell_type": "code",
   "execution_count": 31,
   "id": "c6837ab1",
   "metadata": {},
   "outputs": [],
   "source": [
    "y_pred = model.predict(X_test)"
   ]
  },
  {
   "cell_type": "code",
   "execution_count": 32,
   "id": "aeffc2bb",
   "metadata": {},
   "outputs": [],
   "source": [
    "from sklearn.metrics import classification_report, confusion_matrix"
   ]
  },
  {
   "cell_type": "code",
   "execution_count": 33,
   "id": "037fb74f",
   "metadata": {},
   "outputs": [
    {
     "name": "stdout",
     "output_type": "stream",
     "text": [
      "              precision    recall  f1-score   support\n",
      "\n",
      "           0       0.47      0.30      0.37       160\n",
      "           1       0.70      0.88      0.78       193\n",
      "           2       0.84      0.84      0.84       192\n",
      "           3       0.65      0.79      0.71       374\n",
      "           4       1.00      1.00      1.00       533\n",
      "           5       0.47      0.34      0.40       108\n",
      "           6       0.40      0.25      0.31        92\n",
      "           7       1.00      1.00      1.00     14754\n",
      "           8       0.53      0.51      0.52        98\n",
      "\n",
      "    accuracy                           0.97     16504\n",
      "   macro avg       0.67      0.66      0.66     16504\n",
      "weighted avg       0.97      0.97      0.97     16504\n",
      "\n"
     ]
    }
   ],
   "source": [
    "print(classification_report(y_test,y_pred))"
   ]
  },
  {
   "cell_type": "code",
   "execution_count": null,
   "id": "8e5e84b0",
   "metadata": {},
   "outputs": [],
   "source": []
  },
  {
   "cell_type": "code",
   "execution_count": 34,
   "id": "834ac509",
   "metadata": {},
   "outputs": [],
   "source": [
    "import shap"
   ]
  },
  {
   "cell_type": "code",
   "execution_count": null,
   "id": "554b5859",
   "metadata": {},
   "outputs": [],
   "source": [
    "import datetime\n",
    "from datetime import datetime"
   ]
  },
  {
   "cell_type": "markdown",
   "id": "f1ebdb5b",
   "metadata": {},
   "source": [
    "from datetime import datetime\n",
    ">>> datetime.today().strftime('%Y-%m-%d')\n",
    "datetime.today().strftime('%Y-%m-%d %H:%M:%S')"
   ]
  },
  {
   "cell_type": "code",
   "execution_count": null,
   "id": "04dddb4d",
   "metadata": {},
   "outputs": [],
   "source": [
    "print(f'SHAP Calculation / Start time: {datetime.today().strftime(\"%Y-%m-%d %H:%M:%S\")}')\n",
    "\n",
    "features_name = X_train.columns\n",
    "\n",
    "shap_values = shap.TreeExplainer(model).shap_values(X_train)\n",
    "\n",
    "features_shap_abs = abs(shap_values)\n",
    "\n",
    "features_shap_mean_abs = features_shap_abs.mean(axis=0)\n",
    "\n",
    "features_shap_mean_abs = pd.DataFrame(features_shap_mean_abs).transpose()\n",
    "\n",
    "features_shap_mean_abs.columns = features_name\n",
    "\n",
    "features_shap_mean_abs = features_shap_mean_abs.transpose().reset_index()\n",
    "\n",
    "features_shap_mean_abs.columns = ['Feature', 'shap']\n",
    "\n",
    "features_shap_mean_abs = features_shap_mean_abs.sort_values(by=[\"shap\"], ascending=False).reset_index(drop=True)\n",
    "\n",
    "print(f'SHAP Calculation / End time: {datetime.today().strftime(\"%Y-%m-%d %H:%M:%S\")}')\n",
    "\n"
   ]
  },
  {
   "cell_type": "code",
   "execution_count": null,
   "id": "6292fa4d",
   "metadata": {},
   "outputs": [],
   "source": [
    "features_shap_mean_abs.head(10)"
   ]
  },
  {
   "cell_type": "code",
   "execution_count": null,
   "id": "86d1d5d9",
   "metadata": {},
   "outputs": [],
   "source": [
    "shap.summary_plot(shap_values, X_train)"
   ]
  },
  {
   "cell_type": "code",
   "execution_count": null,
   "id": "d1f4ddc8",
   "metadata": {},
   "outputs": [],
   "source": []
  }
 ],
 "metadata": {
  "kernelspec": {
   "display_name": "Python 3 (ipykernel)",
   "language": "python",
   "name": "python3"
  },
  "language_info": {
   "codemirror_mode": {
    "name": "ipython",
    "version": 3
   },
   "file_extension": ".py",
   "mimetype": "text/x-python",
   "name": "python",
   "nbconvert_exporter": "python",
   "pygments_lexer": "ipython3",
   "version": "3.9.13"
  }
 },
 "nbformat": 4,
 "nbformat_minor": 5
}
